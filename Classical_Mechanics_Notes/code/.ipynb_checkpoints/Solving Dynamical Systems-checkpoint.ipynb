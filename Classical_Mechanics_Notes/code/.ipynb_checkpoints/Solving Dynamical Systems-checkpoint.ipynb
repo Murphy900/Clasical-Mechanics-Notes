{
 "cells": [
  {
   "cell_type": "code",
   "execution_count": 86,
   "id": "f1375976-69c1-4e5c-a07c-87e2f2427b99",
   "metadata": {},
   "outputs": [],
   "source": [
    "U(x) = (x^2+2*x)*e^x\n",
    "U1(x) = derivative(U(x),x)\n",
    "U2(x) = derivative(U(x),x,2)\n"
   ]
  },
  {
   "cell_type": "code",
   "execution_count": 89,
   "id": "c3bd0d78-0ef6-418c-bf0a-5e3e82a48ca7",
   "metadata": {},
   "outputs": [
    {
     "name": "stdout",
     "output_type": "stream",
     "text": [
      " ------------------------------\n",
      "|       Critical Values        |\n",
      " ------------------------------\n",
      "| x1 =   -sqrt(2) - 2          |\n",
      " ------------------------------\n",
      "| x2 =   sqrt(2) - 2           |\n",
      " ------------------------------\n"
     ]
    }
   ],
   "source": [
    "critical = solve(U1(x) == 0,x,solution_dict = True)\n",
    "print(' ------------------------------')\n",
    "print('|       Critical Values        |')\n",
    "print(' ------------------------------\\n| x1 =  ', critical[0][x], '         |\\n ------------------------------\\n| x2 =  ', critical[1][x],'          |\\n ------------------------------') \n"
   ]
  },
  {
   "cell_type": "code",
   "execution_count": 162,
   "id": "c4ff2399-2e87-4227-9d13-308cc240c44a",
   "metadata": {},
   "outputs": [
    {
     "name": "stdout",
     "output_type": "stream",
     "text": [
      "0.15887\n"
     ]
    }
   ],
   "source": [
    "# transformation of the symbolic solution in numeric value\n",
    "\n",
    "root = []\n",
    "for i in range (0,len(critical)):\n",
    "    root.append(critical[i][x].n(20))\n",
    "print(U(root[0]))"
   ]
  },
  {
   "cell_type": "code",
   "execution_count": 135,
   "id": "960233dd-e883-4479-b798-9cfce5ace49a",
   "metadata": {},
   "outputs": [],
   "source": [
    "quote = []\n",
    "U2value = []\n",
    "\n",
    "for i in range (0,len(root)):\n",
    "    quote.append(U(root[i]))\n",
    "    U2value.append(U2(root[i]))\n"
   ]
  },
  {
   "cell_type": "code",
   "execution_count": 163,
   "id": "573eb4af-81fe-4c32-a3ae-f0ed428b173c",
   "metadata": {},
   "outputs": [
    {
     "name": "stdout",
     "output_type": "stream",
     "text": [
      " ------------------------------- ------------------------- ----------------------\n",
      "|       x t.c. U'(x) = 0        |           U(x)          |         U''(x)       |\n",
      " ------------------------------- ------------------------- ----------------------\n",
      "|          -sqrt(2) - 2         |          0.15887        |       -0.093062      |\n",
      " ------------------------------- ------------------------- ----------------------\n",
      "|          sqrt(2) - 2          |          -0.46116       |       1.5745         |\n",
      " ------------------------------- ------------------------- ----------------------\n"
     ]
    }
   ],
   "source": [
    "print(' ------------------------------- ------------------------- ----------------------')\n",
    "print('|       x t.c. U\\'(x) = 0        |           U(x)          |         U\\'\\'(x)       |')\n",
    "print(' ------------------------------- ------------------------- ----------------------')\n",
    "print('|         ', critical[0][x],'        |         ',       quote[0],'       |      ', U2value[0],'     |')\n",
    "print(' ------------------------------- ------------------------- ----------------------')\n",
    "print('|         ', critical[1][x],'         |         ',       quote[1],'      |      ', U2value[1],'        |')\n",
    "print(' ------------------------------- ------------------------- ----------------------')"
   ]
  },
  {
   "cell_type": "code",
   "execution_count": 206,
   "id": "b276585f-4a76-4125-b41e-22983526f8bf",
   "metadata": {},
   "outputs": [
    {
     "data": {
      "image/png": "[encoded data removed]",
      "text/plain": [
       "Graphics object consisting of 11 graphics primitives"
      ]
     },
     "metadata": {},
     "output_type": "display_data"
    }
   ],
   "source": [
    "#creating different levels of energy\n",
    "\n",
    "E1 = 2*quote[1] \n",
    "E2 = quote[1]\n",
    "E3 = (quote[0] + quote[1])/2\n",
    "E4 = quote[0]\n",
    "E5 = 2*quote[0]\n",
    "\n",
    "up = plot(U(x),x,-8,E4)\n",
    "l1 = line([(2,E1),(-8,E1)],color = 'red') + text(r'$E_1$', (-8.5,E1), fontsize = 15, color = 'red')\n",
    "l2 = line([(2,E2),(-8,E2)],color = 'orange') + text(r'$E_2$', (-8.5,E2), fontsize = 15, color = 'orange')\n",
    "l3 = line([(2,E3),(-8,E3)],color = 'green') + text(r'$E_3$', (-8.5,E3), fontsize = 15, color = 'green')\n",
    "l4 = line([(2,E4),(-8,E4)],color = 'cyan') + text(r'$E_4$', (-8.5,E4), fontsize = 15, color = 'cyan')\n",
    "l5 =  line([(2,E5),(-8,E5)],color = 'brown') + text(r'$E_5$', (-8.5,E5), fontsize = 15, color = 'brown')\n",
    "\n",
    "c = up + l1 + l2 + l3 + l4 + l5\n",
    "c.axes_labels(['x','U(x)'])\n",
    "c.show()"
   ]
  },
  {
   "cell_type": "code",
   "execution_count": null,
   "id": "873c4937-5ecd-4c67-9b87-29e15cec3986",
   "metadata": {},
   "outputs": [],
   "source": [
    "#Creating the phase plane streamlines for each energy level\n",
    "\n"
   ]
  }
 ],
 "metadata": {
  "kernelspec": {
   "display_name": "SageMath 10.3",
   "language": "sage",
   "name": "sagemath-10.3"
  },
  "language_info": {
   "codemirror_mode": {
    "name": "ipython",
    "version": 3
   },
   "file_extension": ".py",
   "mimetype": "text/x-python",
   "name": "python",
   "nbconvert_exporter": "python",
   "pygments_lexer": "ipython3",
   "version": "3.11.8"
  }
 },
 "nbformat": 4,
 "nbformat_minor": 5
}
